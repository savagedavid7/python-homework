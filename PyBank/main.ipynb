{
 "cells": [
  {
   "cell_type": "code",
   "execution_count": 1,
   "metadata": {},
   "outputs": [],
   "source": [
    "from pathlib import Path\n",
    "import csv"
   ]
  },
  {
   "cell_type": "code",
   "execution_count": 2,
   "metadata": {},
   "outputs": [
    {
     "name": "stdout",
     "output_type": "stream",
     "text": [
      "C:\\Users\\savag\\OneDrive\\Desktop\\UofT Fintech Class\\Homework Assignments\\Assignment 2\\python-homework\\PyBank\n"
     ]
    }
   ],
   "source": [
    "cwd = Path.cwd()\n",
    "print(cwd)"
   ]
  },
  {
   "cell_type": "code",
   "execution_count": 17,
   "metadata": {},
   "outputs": [
    {
     "name": "stdout",
     "output_type": "stream",
     "text": [
      "{'Jan-2010': 867884, 'Feb-2010': 984655, 'Mar-2010': 322013, 'Apr-2010': -69417, 'May-2010': 310503, 'Jun-2010': 522857, 'Jul-2010': 1033096, 'Aug-2010': 604885, 'Sep-2010': -216386, 'Oct-2010': 477532, 'Nov-2010': 893810, 'Dec-2010': -80353, 'Jan-2011': 779806, 'Feb-2011': -335203, 'Mar-2011': 697845, 'Apr-2011': 793163, 'May-2011': 485070, 'Jun-2011': 584122, 'Jul-2011': 62729, 'Aug-2011': 668179, 'Sep-2011': 899906, 'Oct-2011': 834719, 'Nov-2011': 132003, 'Dec-2011': 309978, 'Jan-2012': -755566, 'Feb-2012': 1170593, 'Mar-2012': 252788, 'Apr-2012': 1151518, 'May-2012': 817256, 'Jun-2012': 570757, 'Jul-2012': 506702, 'Aug-2012': -1022534, 'Sep-2012': 475062, 'Oct-2012': 779976, 'Nov-2012': 144175, 'Dec-2012': 542494, 'Jan-2013': 359333, 'Feb-2013': 321469, 'Mar-2013': 67780, 'Apr-2013': 471435, 'May-2013': 565603, 'Jun-2013': 872480, 'Jul-2013': 789480, 'Aug-2013': 999942, 'Sep-2013': -1196225, 'Oct-2013': 268997, 'Nov-2013': -687986, 'Dec-2013': 1150461, 'Jan-2014': 682458, 'Feb-2014': 617856, 'Mar-2014': 824098, 'Apr-2014': 581943, 'May-2014': 132864, 'Jun-2014': 448062, 'Jul-2014': 689161, 'Aug-2014': 800701, 'Sep-2014': 1166643, 'Oct-2014': 947333, 'Nov-2014': 578668, 'Dec-2014': 988505, 'Jan-2015': 1139715, 'Feb-2015': 1029471, 'Mar-2015': 687533, 'Apr-2015': -524626, 'May-2015': 158620, 'Jun-2015': 87795, 'Jul-2015': 423389, 'Aug-2015': 840723, 'Sep-2015': 568529, 'Oct-2015': 332067, 'Nov-2015': 989499, 'Dec-2015': 778237, 'Jan-2016': 650000, 'Feb-2016': -1100387, 'Mar-2016': -174946, 'Apr-2016': 757143, 'May-2016': 445709, 'Jun-2016': 712961, 'Jul-2016': -1163797, 'Aug-2016': 569899, 'Sep-2016': 768450, 'Oct-2016': 102685, 'Nov-2016': 795914, 'Dec-2016': 60988, 'Jan-2017': 138230, 'Feb-2017': 671099}\n"
     ]
    }
   ],
   "source": [
    "filepath = Path(\"Resources/budget_data.csv\")\n",
    "\n",
    "profit_losses = {}\n",
    "pnl_list = []\n",
    "date_list = []\n",
    "\n",
    "with open(filepath, 'r') as csvfile:\n",
    "    csvreader = csv.reader(csvfile, delimiter=',')\n",
    "    header = next(csvreader)\n",
    "    \n",
    "    \n",
    "\n",
    "    for row in csvreader:\n",
    "\n",
    "        \n",
    "        pnl = int(row[1])\n",
    "        date = row[0]  \n",
    "        date_list.append(date)\n",
    "        profit_losses[date] = pnl\n",
    "        pnl_list.append(pnl)\n",
    "       \n",
    "        \n",
    "print(profit_losses)\n"
   ]
  },
  {
   "cell_type": "code",
   "execution_count": 13,
   "metadata": {},
   "outputs": [
    {
     "name": "stdout",
     "output_type": "stream",
     "text": [
      "[867884, 984655, 322013, -69417, 310503, 522857, 1033096, 604885, -216386, 477532, 893810, -80353, 779806, -335203, 697845, 793163, 485070, 584122, 62729, 668179, 899906, 834719, 132003, 309978, -755566, 1170593, 252788, 1151518, 817256, 570757, 506702, -1022534, 475062, 779976, 144175, 542494, 359333, 321469, 67780, 471435, 565603, 872480, 789480, 999942, -1196225, 268997, -687986, 1150461, 682458, 617856, 824098, 581943, 132864, 448062, 689161, 800701, 1166643, 947333, 578668, 988505, 1139715, 1029471, 687533, -524626, 158620, 87795, 423389, 840723, 568529, 332067, 989499, 778237, 650000, -1100387, -174946, 757143, 445709, 712961, -1163797, 569899, 768450, 102685, 795914, 60988, 138230, 671099]\n",
      "\n",
      "[116771, -662642, -391430, 379920, 212354, 510239, -428211, -821271, 693918, 416278, -974163, 860159, -1115009, 1033048, 95318, -308093, 99052, -521393, 605450, 231727, -65187, -702716, 177975, -1065544, 1926159, -917805, 898730, -334262, -246499, -64055, -1529236, 1497596, 304914, -635801, 398319, -183161, -37864, -253689, 403655, 94168, 306877, -83000, 210462, -2196167, 1465222, -956983, 1838447, -468003, -64602, 206242, -242155, -449079, 315198, 241099, 111540, 365942, -219310, -368665, 409837, 151210, -110244, -341938, -1212159, 683246, -70825, 335594, 417334, -272194, -236462, 657432, -211262, -128237, -1750387, 925441, 932089, -311434, 267252, -1876758, 1733696, 198551, -665765, 693229, -734926, 77242, 532869]\n",
      "\n"
     ]
    }
   ],
   "source": [
    "#calculate monthly profit/loss change\n",
    "print(pnl_list)\n",
    "print()\n",
    "monthly_profit_change = [pnl_list[i+1] - pnl_list[i] for i in range(len(pnl_list)-1)]\n",
    "        \n",
    "print(monthly_profit_change)\n",
    "print()\n",
    "\n"
   ]
  },
  {
   "cell_type": "code",
   "execution_count": 18,
   "metadata": {},
   "outputs": [
    {
     "name": "stdout",
     "output_type": "stream",
     "text": [
      "{'Feb-2010': 116771, 'Mar-2010': -662642, 'Apr-2010': -391430, 'May-2010': 379920, 'Jun-2010': 212354, 'Jul-2010': 510239, 'Aug-2010': -428211, 'Sep-2010': -821271, 'Oct-2010': 693918, 'Nov-2010': 416278, 'Dec-2010': -974163, 'Jan-2011': 860159, 'Feb-2011': -1115009, 'Mar-2011': 1033048, 'Apr-2011': 95318, 'May-2011': -308093, 'Jun-2011': 99052, 'Jul-2011': -521393, 'Aug-2011': 605450, 'Sep-2011': 231727, 'Oct-2011': -65187, 'Nov-2011': -702716, 'Dec-2011': 177975, 'Jan-2012': -1065544, 'Feb-2012': 1926159, 'Mar-2012': -917805, 'Apr-2012': 898730, 'May-2012': -334262, 'Jun-2012': -246499, 'Jul-2012': -64055, 'Aug-2012': -1529236, 'Sep-2012': 1497596, 'Oct-2012': 304914, 'Nov-2012': -635801, 'Dec-2012': 398319, 'Jan-2013': -183161, 'Feb-2013': -37864, 'Mar-2013': -253689, 'Apr-2013': 403655, 'May-2013': 94168, 'Jun-2013': 306877, 'Jul-2013': -83000, 'Aug-2013': 210462, 'Sep-2013': -2196167, 'Oct-2013': 1465222, 'Nov-2013': -956983, 'Dec-2013': 1838447, 'Jan-2014': -468003, 'Feb-2014': -64602, 'Mar-2014': 206242, 'Apr-2014': -242155, 'May-2014': -449079, 'Jun-2014': 315198, 'Jul-2014': 241099, 'Aug-2014': 111540, 'Sep-2014': 365942, 'Oct-2014': -219310, 'Nov-2014': -368665, 'Dec-2014': 409837, 'Jan-2015': 151210, 'Feb-2015': -110244, 'Mar-2015': -341938, 'Apr-2015': -1212159, 'May-2015': 683246, 'Jun-2015': -70825, 'Jul-2015': 335594, 'Aug-2015': 417334, 'Sep-2015': -272194, 'Oct-2015': -236462, 'Nov-2015': 657432, 'Dec-2015': -211262, 'Jan-2016': -128237, 'Feb-2016': -1750387, 'Mar-2016': 925441, 'Apr-2016': 932089, 'May-2016': -311434, 'Jun-2016': 267252, 'Jul-2016': -1876758, 'Aug-2016': 1733696, 'Sep-2016': 198551, 'Oct-2016': -665765, 'Nov-2016': 693229, 'Dec-2016': -734926, 'Jan-2017': 77242, 'Feb-2017': 532869}\n"
     ]
    }
   ],
   "source": [
    "#Create a new dictionary with the dates as the keys and the monthly change in profit as the values\n",
    "#First adjust date list\n",
    "date_list.remove(\"Jan-2010\")\n",
    "keys = date_list\n",
    "values = monthly_profit_change\n",
    "new_pnl_dictionary = dict(zip(keys, values))\n",
    "print(new_pnl_dictionary)\n"
   ]
  },
  {
   "cell_type": "code",
   "execution_count": 19,
   "metadata": {},
   "outputs": [
    {
     "name": "stdout",
     "output_type": "stream",
     "text": [
      "The count is: 86\n",
      "The sum is:38382578\n",
      "The average is: -2315.12\n",
      " The the best month was: Feb-2012 with PNL equal to 1170593\n",
      " The the worst month was: Sep-2013 with PNL equal to -1196225\n",
      " The greatest increase in profits was: Feb-2012, with change in pnl equal to: 1926159\n",
      " The greatest decrease in profits was: Sep-2013, with change in pnl equal to: -2196167\n"
     ]
    }
   ],
   "source": [
    "#Initialize metric variables\n",
    "number_of_months = 0\n",
    "total_profit_losses = 0\n",
    "\n",
    "\n",
    "max_profit_date = None\n",
    "max_profit_value = 0\n",
    "max_losses_date = None\n",
    "max_losses_value = 0\n",
    "\n",
    "#Calculate metric variables\n",
    "for date, pnl in profit_losses.items():\n",
    "    total_profit_losses += pnl\n",
    "    number_of_months += 1\n",
    "    \n",
    "# Logic to determine min and max pnl\n",
    "    if pnl > max_profit_value:\n",
    "        max_profit_value = pnl\n",
    "        max_profit_date = date\n",
    "    elif pnl < max_losses_value:\n",
    "        max_losses_value = pnl\n",
    "        max_losses_date = date\n",
    "\n",
    "# Logic to determine average monthly change in pnl\n",
    "\n",
    "count = 0\n",
    "sum_of_changes = 0\n",
    "average = 0\n",
    "greatest_increase_in_profits_date = None\n",
    "greatest_increase_in_profits_value = 0\n",
    "greatest_decrease_in_profits_date = None\n",
    "greatest_decrease_in_profits_value = 0\n",
    "\n",
    "for date, profit_change in new_pnl_dictionary.items():\n",
    "    sum_of_changes += profit_change\n",
    "    count += 1\n",
    "    \n",
    "# Logic to determine min and max pnl change\n",
    "    if profit_change > greatest_increase_in_profits_value:\n",
    "        greatest_increase_in_profits_value = profit_change\n",
    "        greatest_increase_in_profits_date = date\n",
    "    elif profit_change < greatest_decrease_in_profits_value:\n",
    "        greatest_decrease_in_profits_value = profit_change\n",
    "        greatest_decrease_in_profits_date = date\n",
    "        \n",
    "average = round((sum_of_changes/count), 2)\n",
    "\n",
    "print(f'The count is: {number_of_months}')\n",
    "print(f'The sum is:{total_profit_losses}')\n",
    "\n",
    "print(f'The average is: {average}')\n",
    "\n",
    "print(f' The the best month was: {max_profit_date} with PNL equal to {max_profit_value}')\n",
    "print(f' The the worst month was: {max_losses_date} with PNL equal to {max_losses_value}')     \n",
    "print(f' The greatest increase in profits was: {greatest_increase_in_profits_date}, with change in pnl equal to: {greatest_increase_in_profits_value}')\n",
    "print(f' The greatest decrease in profits was: {greatest_decrease_in_profits_date}, with change in pnl equal to: {greatest_decrease_in_profits_value}')\n",
    "        \n",
    "        \n",
    "    \n",
    "    "
   ]
  },
  {
   "cell_type": "code",
   "execution_count": 23,
   "metadata": {},
   "outputs": [
    {
     "name": "stdout",
     "output_type": "stream",
     "text": [
      "Financial Analysis\n",
      "----------------------------\n",
      "Total Months: 86\n",
      "Total: $38382578\n",
      "The average change is: $-2315.12\n",
      "The greatest increase in profits was: Feb-2012, with change in pnl equal to: $1926159\n",
      "The greatest decrease in profits was: Sep-2013, with change in pnl equal to: $-2196167\n"
     ]
    }
   ],
   "source": [
    " \"\"\"\n",
    "  Financial Analysis\n",
    "  ----------------------------\n",
    "  Total Months: 86\n",
    "  Total: $38382578\n",
    "  Average  Change: $-2315.12\n",
    "  Greatest Increase in Profits: Feb-2012 ($1926159)\n",
    "  Greatest Decrease in Profits: Sep-2013 ($-2196167)\n",
    "\"\"\"\n",
    "    \n",
    "print(\"Financial Analysis\")\n",
    "print(\"----------------------------\")\n",
    "print(f'Total Months: {number_of_months}')\n",
    "print(f'Total: ${total_profit_losses}')\n",
    "print(f'The average change is: ${average}')\n",
    "print(f'The greatest increase in profits was: {greatest_increase_in_profits_date}, with change in pnl equal to: ${greatest_increase_in_profits_value}')\n",
    "print(f'The greatest decrease in profits was: {greatest_decrease_in_profits_date}, with change in pnl equal to: ${greatest_decrease_in_profits_value}')"
   ]
  },
  {
   "cell_type": "code",
   "execution_count": 33,
   "metadata": {},
   "outputs": [],
   "source": [
    "#Set the text for the file\n",
    "\n",
    "\n",
    "# Set the output file path\n",
    "output_path = Path('output.txt')\n",
    "\n",
    "\n",
    "# Open the output_path as a file object in \"write\" mode ('w')\n",
    "# Write the contents of 'text' to the file\n",
    "with open(output_path, 'w') as file:\n",
    "    file.write(\"Financial Analysis\\n\")\n",
    "    file.write(\"----------------------------\\n\")\n",
    "    file.write(\"Total Months: 86\\n\" \"Total: $38382578\\n\" \"The average change is: $-2315.12\\n\" )\n",
    "    file.write(\"The greatest increase in profits was: Feb-2012, with change in pnl equal to: $1926159\\n\")\n",
    "    file.write(\"The greatest decrease in profits was: Sep-2013, with change in pnl equal to: $-2196167\\n\")\n",
    "             \n",
    "\n"
   ]
  },
  {
   "cell_type": "code",
   "execution_count": null,
   "metadata": {},
   "outputs": [],
   "source": []
  }
 ],
 "metadata": {
  "kernelspec": {
   "display_name": "Python 3",
   "language": "python",
   "name": "python3"
  },
  "language_info": {
   "codemirror_mode": {
    "name": "ipython",
    "version": 3
   },
   "file_extension": ".py",
   "mimetype": "text/x-python",
   "name": "python",
   "nbconvert_exporter": "python",
   "pygments_lexer": "ipython3",
   "version": "3.7.7"
  }
 },
 "nbformat": 4,
 "nbformat_minor": 4
}
